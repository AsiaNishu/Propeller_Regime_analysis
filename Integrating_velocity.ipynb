{
 "cells": [
  {
   "cell_type": "code",
   "execution_count": 2,
   "metadata": {},
   "outputs": [],
   "source": [
    "import h5py\n",
    "import numpy as np\n",
    "import math as mt\n",
    "import matplotlib.pyplot as plt\n",
    "import yt"
   ]
  },
  {
   "cell_type": "code",
   "execution_count": 3,
   "metadata": {},
   "outputs": [
    {
     "data": {
      "text/plain": [
       "981"
      ]
     },
     "execution_count": 3,
     "metadata": {},
     "output_type": "execute_result"
    }
   ],
   "source": [
    "f=h5py.File('relax_hdf5_part_0036','r')\n",
    "array=f['tracer particles'][:]\n",
    "len(array)"
   ]
  },
  {
   "cell_type": "code",
   "execution_count": 6,
   "metadata": {},
   "outputs": [],
   "source": [
    "# Will store x,y,z position value for each time step for 10 particles\n",
    "x=[]\n",
    "y=[]\n",
    "z=[]\n",
    "vx=[]\n",
    "vy=[]\n",
    "vz=[]\n",
    "dt=[]\n",
    "t=[]\n",
    "\n",
    "for n in range(0,36):  #this loop will run on particle file numbers to keep track of the time step\n",
    "    f=h5py.File('relax_hdf5_part_%04d'% n,'r') \n",
    "    x1 = []\n",
    "    y1 = []\n",
    "    z1 = []\n",
    "    vx1= []\n",
    "    vy1= []\n",
    "    vz1= []\n",
    "    \n",
    "    for i in range(0,981): # partile number (Though we have 1000 particle in total, but here just included 10 particles)\n",
    "        x1.append(f['tracer particles'][i,4]) \n",
    "        y1.append(f['tracer particles'][i,5])\n",
    "        z1.append(f['tracer particles'][i,6])\n",
    "        vx1.append(f['tracer particles'][i,11])\n",
    "        vy1.append(f['tracer particles'][i,12])\n",
    "        vz1.append(f['tracer particles'][i,13])\n",
    "    dt.append(f['real scalars'][1][1])\n",
    "    t.append(f['real scalars'][0][1])\n",
    "    \n",
    "    x.append(x1)#this makes a 2d array of position where let to right is the particle number and top to bottom is the time step\n",
    "    y.append(y1)\n",
    "    z.append(z1)\n",
    "    vx.append(vx1)\n",
    "    vy.append(vy1)\n",
    "    vz.append(vz1)\n",
    "#t"
   ]
  },
  {
   "cell_type": "code",
   "execution_count": 7,
   "metadata": {},
   "outputs": [],
   "source": [
    "error_x=[]\n",
    "error_y=[]\n",
    "error_z=[]\n",
    "grid_size=5.120e+07 \n",
    "\n",
    "for i in range(0,35):\n",
    "    error_x1=[]\n",
    "    error_y1=[]\n",
    "    error_z1=[]\n",
    "    for j in range(0,981):\n",
    "        error_x1.append((x[i+1][j]-x[i][j]-(vx[i][j]*dt[i]))/grid_size)\n",
    "        error_y1.append((y[i+1][j]-y[i][j]-(vy[i][j]*dt[i]))/grid_size)\n",
    "        error_z1.append((z[i+1][j]-z[i][j]-(vz[i][j]*dt[i]))/grid_size)\n",
    "    error_x.append(error_x1)\n",
    "    error_y.append(error_y1)\n",
    "    error_z.append(error_z1)\n",
    "#error_x"
   ]
  }
 ],
 "metadata": {
  "kernelspec": {
   "display_name": "Python 3",
   "language": "python",
   "name": "python3"
  },
  "language_info": {
   "codemirror_mode": {
    "name": "ipython",
    "version": 3
   },
   "file_extension": ".py",
   "mimetype": "text/x-python",
   "name": "python",
   "nbconvert_exporter": "python",
   "pygments_lexer": "ipython3",
   "version": "3.6.9"
  }
 },
 "nbformat": 4,
 "nbformat_minor": 2
}
