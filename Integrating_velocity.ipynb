{
 "cells": [
  {
   "cell_type": "code",
   "execution_count": 1,
   "metadata": {},
   "outputs": [],
   "source": [
    "import h5py\n",
    "import numpy as np\n",
    "import math as mt\n",
    "import matplotlib.pyplot as plt\n",
    "import os \n",
    "import string\n",
    "from decimal import *\n",
    "import yt"
   ]
  },
  {
   "cell_type": "code",
   "execution_count": 2,
   "metadata": {},
   "outputs": [],
   "source": [
    "# Will store x position value for each time step for 10 particles\n",
    "x1=[]\n",
    "x2=[]\n",
    "x3=[]\n",
    "x4=[]\n",
    "x5=[]\n",
    "x6=[]\n",
    "x7=[]\n",
    "x8=[]\n",
    "x9=[]\n",
    "x10=[]\n",
    "\n",
    "for n in range(0,11):\n",
    "    f=h5py.File('relax_hdf5_part_%04d'% n,'r')\n",
    "    x1.append(f['tracer particles'][0,4]) \n",
    "    x2.append(f['tracer particles'][1,4])\n",
    "    x3.append(f['tracer particles'][2,4])\n",
    "    x4.append(f['tracer particles'][3,4])\n",
    "    x5.append(f['tracer particles'][4,4])\n",
    "    x6.append(f['tracer particles'][5,4])\n",
    "    x7.append(f['tracer particles'][6,4])\n",
    "    x8.append(f['tracer particles'][7,4])\n",
    "    x9.append(f['tracer particles'][8,4])\n",
    "    x10.append(f['tracer particles'][9,4])"
   ]
  },
  {
   "cell_type": "code",
   "execution_count": 3,
   "metadata": {},
   "outputs": [
    {
     "data": {
      "text/plain": [
       "[128249954.72228415,\n",
       " 128249814.36216864,\n",
       " 128249722.45237769,\n",
       " 128249612.26355967,\n",
       " 128249480.18553403,\n",
       " 128249321.90640141,\n",
       " 128249132.28131405,\n",
       " 128248905.17911676,\n",
       " 128248633.30410075,\n",
       " 128248307.9908768,\n",
       " 128247918.97123574]"
      ]
     },
     "execution_count": 3,
     "metadata": {},
     "output_type": "execute_result"
    }
   ],
   "source": [
    "# Will store y position value for each time step for 10 particles\n",
    "y1=[]\n",
    "y2=[]\n",
    "y3=[]\n",
    "y4=[]\n",
    "y5=[]\n",
    "y6=[]\n",
    "y7=[]\n",
    "y8=[]\n",
    "y9=[]\n",
    "y10=[]\n",
    "\n",
    "for n in range(0,11):\n",
    "    f=h5py.File('relax_hdf5_part_%04d'% n,'r')\n",
    "    y1.append(f['tracer particles'][0,5]) \n",
    "    y2.append(f['tracer particles'][1,5])\n",
    "    y3.append(f['tracer particles'][2,5])\n",
    "    y4.append(f['tracer particles'][3,5])\n",
    "    y5.append(f['tracer particles'][4,5])\n",
    "    y6.append(f['tracer particles'][5,5])\n",
    "    y7.append(f['tracer particles'][6,5])\n",
    "    y8.append(f['tracer particles'][7,5])\n",
    "    y9.append(f['tracer particles'][8,5])\n",
    "    y10.append(f['tracer particles'][9,5])\n",
    "y10"
   ]
  },
  {
   "cell_type": "code",
   "execution_count": 4,
   "metadata": {},
   "outputs": [],
   "source": [
    "# Will store z position value for each time step for 10 particles\n",
    "z1=[]\n",
    "z2=[]\n",
    "z3=[]\n",
    "z4=[]\n",
    "z5=[]\n",
    "z6=[]\n",
    "z7=[]\n",
    "z8=[]\n",
    "z9=[]\n",
    "z10=[]\n",
    "\n",
    "for n in range(0,11):\n",
    "    f=h5py.File('relax_hdf5_part_%04d'% n,'r')\n",
    "    z1.append(f['tracer particles'][0,6]) \n",
    "    z2.append(f['tracer particles'][1,6])\n",
    "    z3.append(f['tracer particles'][2,6])\n",
    "    z4.append(f['tracer particles'][3,6])\n",
    "    z5.append(f['tracer particles'][4,6])\n",
    "    z6.append(f['tracer particles'][5,6])\n",
    "    z7.append(f['tracer particles'][6,6])\n",
    "    z8.append(f['tracer particles'][7,6])\n",
    "    z9.append(f['tracer particles'][8,6])\n",
    "    z10.append(f['tracer particles'][9,6])\n"
   ]
  },
  {
   "cell_type": "code",
   "execution_count": 5,
   "metadata": {},
   "outputs": [
    {
     "data": {
      "text/plain": [
       "[-1662937.5184055057,\n",
       " -1668032.7826589523,\n",
       " -1668050.6872580475,\n",
       " -1668071.8965179536,\n",
       " -1668096.948779126,\n",
       " -1668126.4353485152,\n",
       " -1668160.9863087554,\n",
       " -1668201.2425547526,\n",
       " -1668247.8212726547,\n",
       " -1668301.352234462,\n",
       " -1668362.166050537]"
      ]
     },
     "execution_count": 5,
     "metadata": {},
     "output_type": "execute_result"
    }
   ],
   "source": [
    "# Will store x celocity value for each time step for 10 particles\n",
    "vx1=[]\n",
    "vx2=[]\n",
    "vx3=[]\n",
    "vx4=[]\n",
    "vx5=[]\n",
    "vx6=[]\n",
    "vx7=[]\n",
    "vx8=[]\n",
    "vx9=[]\n",
    "vx10=[]\n",
    "\n",
    "for n in range(0,11):\n",
    "    f=h5py.File('relax_hdf5_part_%04d'% n,'r')\n",
    "    vx1.append(f['tracer particles'][0,14]) \n",
    "    vx2.append(f['tracer particles'][1,14])\n",
    "    vx3.append(f['tracer particles'][2,14])\n",
    "    vx4.append(f['tracer particles'][3,14])\n",
    "    vx5.append(f['tracer particles'][4,14])\n",
    "    vx6.append(f['tracer particles'][5,14])\n",
    "    vx7.append(f['tracer particles'][6,14])\n",
    "    vx8.append(f['tracer particles'][7,14])\n",
    "    vx9.append(f['tracer particles'][8,14])\n",
    "    vx10.append(f['tracer particles'][9,14])\n",
    "vx1"
   ]
  },
  {
   "cell_type": "code",
   "execution_count": 6,
   "metadata": {},
   "outputs": [],
   "source": [
    "# Will store y celocity value for each time step for 10 particles\n",
    "vy1=[]\n",
    "vy2=[]\n",
    "vy3=[]\n",
    "vy4=[]\n",
    "vy5=[]\n",
    "vy6=[]\n",
    "vy7=[]\n",
    "vy8=[]\n",
    "vy9=[]\n",
    "vy10=[]\n",
    "\n",
    "for n in range(0,11):\n",
    "    f=h5py.File('relax_hdf5_part_%04d'% n,'r')\n",
    "    vy1.append(f['tracer particles'][0,15]) \n",
    "    vy2.append(f['tracer particles'][1,15])\n",
    "    vy3.append(f['tracer particles'][2,15])\n",
    "    vy4.append(f['tracer particles'][3,15])\n",
    "    vy5.append(f['tracer particles'][4,15])\n",
    "    vy6.append(f['tracer particles'][5,15])\n",
    "    vy7.append(f['tracer particles'][6,15])\n",
    "    vy8.append(f['tracer particles'][7,15])\n",
    "    vy9.append(f['tracer particles'][8,15])\n",
    "    vy10.append(f['tracer particles'][9,15])"
   ]
  },
  {
   "cell_type": "code",
   "execution_count": 7,
   "metadata": {
    "scrolled": true
   },
   "outputs": [
    {
     "name": "stdout",
     "output_type": "stream",
     "text": [
      "[-3.914395280788519e-06, -7.819155454984449e-07, -9.383143027231023e-07, -1.1259992624727521e-06, -1.3512301827238139e-06, -1.6215196492577522e-06, -1.9458838452108905e-06, -2.335143511815296e-06, -2.8022854847533398e-06, -3.3628945223999375e-06] [-2.9243881766216563e-06, -5.853906341100639e-07, -7.031664277307226e-07, -8.44803254741629e-07, -1.0152070907123934e-06, -1.2203233728323071e-06, -1.4673692769404646e-06, -1.7651132856428187e-06, -2.1242557337092994e-06, -2.557868339147129e-06] [-1.864438875970928e-06, -3.7047068823598954e-07, -4.4397535748103343e-07, -5.319216098592805e-07, -6.37083654595021e-07, -7.627403459874654e-07, -9.127540252823412e-07, -1.0916554222286857e-06, -1.304731579833559e-06, -1.5581120090272194e-06] [-1.5651104452723771e-06, -3.1123509766212865e-07, -3.7315381681201047e-07, -4.473117544427521e-07, -5.360931022988919e-07, -6.423308405472706e-07, -7.69384137666555e-07, -9.212257275063757e-07, -1.1025389242708271e-06, -1.3188226042519813e-06] [1.4695612727820206e-06, 2.956847589168574e-07, 3.553178834047957e-07, 4.2709595080609397e-07, 5.135440158191363e-07, 6.177344054921113e-07, 7.434152637079883e-07, 8.951721120854661e-07, 1.0786339758344499e-06, 1.3007383185419452e-06] [-1.2991247154166824e-06, -2.5767918696140953e-07, -3.0872122902092514e-07, -3.6975435336347285e-07, -4.426811330744054e-07, -5.297425199250489e-07, -6.335670071333788e-07, -7.572213890871993e-07, -9.042599278598828e-07, -1.0787663363708567e-06] [-3.8829286163952215e-06, -7.750091103538714e-07, -9.298879765125633e-07, -1.1156882648199295e-06, -1.3385701521180638e-06, -1.6059150882640994e-06, -1.9265651825842944e-06, -2.311108226460137e-06, -2.772216359698254e-06, -3.3250476731703294e-06] [-1.7544009777154156e-06, -3.4826223435537376e-07, -4.172551900077079e-07, -4.997567153907029e-07, -5.98341027955967e-07, -7.160413750218408e-07, -8.564169105126262e-07, -1.0236228178378715e-06, -1.2224786802987186e-06, -1.458528373348208e-06] [2.6647377891268494e-06, 5.345029623440006e-07, 6.417606362214001e-07, 7.706268827674285e-07, 9.254924504422968e-07, 1.1116565785447908e-06, 1.3355219997442625e-06, 1.6048348056286331e-06, 1.928980643144076e-06, 2.319352232353158e-06] [-1.97196805631282e-06, -3.918411534946703e-07, -4.6962682253219283e-07, -5.627133806878859e-07, -6.740483161114059e-07, -8.071190781273291e-07, -9.66039302912357e-07, -1.1556427364635424e-06, -1.3815821620981984e-06, -1.650428409909117e-06]\n"
     ]
    }
   ],
   "source": [
    "grid_size=5.120e+07 \n",
    "\n",
    "error_x1=[]\n",
    "error_x2=[]\n",
    "error_x3=[]\n",
    "error_x4=[]\n",
    "error_x5=[]\n",
    "error_x6=[]\n",
    "error_x7=[]\n",
    "error_x8=[]\n",
    "error_x9=[]\n",
    "error_x10=[]\n",
    "dt=[]\n",
    "time=[]\n",
    "\n",
    "for i in range(0,10):\n",
    "    f=h5py.File('relax_hdf5_part_%04d'%i,'r')\n",
    "    dt.append(f['real scalars'][1][1])\n",
    "    time.append(f['real scalars'][0][1])\n",
    "    error_x1.append((x1[i+1]-x1[i]-vx1[i]*dt[i])/grid_size)\n",
    "    error_x2.append((x2[i+1]-x2[i]-vx2[i]*dt[i])/grid_size)\n",
    "    error_x3.append((x3[i+1]-x3[i]-vx3[i]*dt[i])/grid_size)\n",
    "    error_x4.append((x4[i+1]-x4[i]-vx4[i]*dt[i])/grid_size)\n",
    "    error_x5.append((x5[i+1]-x5[i]-vx5[i]*dt[i])/grid_size)\n",
    "    error_x6.append((x6[i+1]-x6[i]-vx6[i]*dt[i])/grid_size)\n",
    "    error_x7.append((x7[i+1]-x7[i]-vx7[i]*dt[i])/grid_size)\n",
    "    error_x8.append((x8[i+1]-x8[i]-vx8[i]*dt[i])/grid_size)\n",
    "    error_x9.append((x9[i+1]-x9[i]-vx9[i]*dt[i])/grid_size)\n",
    "    error_x10.append((x10[i+1]-x10[i]-vx10[i]*dt[i])/grid_size)\n",
    "print(error_x1,error_x2,error_x3,error_x4,error_x5,error_x6,error_x7,error_x8,error_x9,error_x10)\n"
   ]
  },
  {
   "cell_type": "code",
   "execution_count": 8,
   "metadata": {},
   "outputs": [
    {
     "data": {
      "text/plain": [
       "[<matplotlib.lines.Line2D at 0x7fa30232b0f0>]"
      ]
     },
     "execution_count": 8,
     "metadata": {},
     "output_type": "execute_result"
    },
    {
     "data": {
      "image/png": "[encoded data removed]",
      "text/plain": [
       "<Figure size 432x288 with 1 Axes>"
      ]
     },
     "metadata": {
      "needs_background": "light"
     },
     "output_type": "display_data"
    }
   ],
   "source": [
    "plt.plot(np.arange(len(error_x1)),error_x1,'.')\n",
    "plt.plot(np.arange(len(error_x1)),error_x2,'.')\n",
    "plt.plot(np.arange(len(error_x1)),error_x3,'.')\n",
    "plt.plot(np.arange(len(error_x1)),error_x4,'.')\n",
    "plt.plot(np.arange(len(error_x1)),error_x5,'.')\n",
    "plt.plot(np.arange(len(error_x1)),error_x6,'.')\n",
    "plt.plot(np.arange(len(error_x1)),error_x7,'.')\n",
    "plt.plot(np.arange(len(error_x1)),error_x8,'.')\n",
    "plt.plot(np.arange(len(error_x1)),error_x9,'.')\n",
    "plt.plot(np.arange(len(error_x1)),error_x10,'.')"
   ]
  },
  {
   "cell_type": "code",
   "execution_count": 10,
   "metadata": {},
   "outputs": [
    {
     "name": "stdout",
     "output_type": "stream",
     "text": [
      "-3.174044007839909e-07 -2.6441380730542675e-06 1.4171866538249734e-06 1.8198268956448752e-06 -1.2142677160302462e-06 -5.224516950960286e-07 -1.0784945273843186e-07 -1.716926978687414e-06 1.4222526005141644e-06 -1.5007825375448859e-06\n",
      "-6.076142913256234e-08 -5.300412481711519e-07 2.817853034745399e-07 3.6167695097907654e-07 -2.4584744633426625e-07 -1.0259985022915065e-07 -2.3295622638403128e-08 -3.413669429049335e-07 2.857029712784759e-07 -2.985516367634955e-07\n",
      "-7.12052305576357e-08 -6.363661402464571e-07 3.3779558830780294e-07 4.3339193616392435e-07 -2.9573575332682176e-07 -1.2253261965632575e-07 -2.9092073770345916e-08 -4.0905281906157637e-07 3.4324272678468104e-07 -3.5777290418388117e-07\n",
      "-8.298657238001384e-08 -7.640944155584645e-07 4.04855363489719e-07 5.19176766276605e-07 -3.5591809424799033e-07 -1.4619360128951335e-07 -3.654639936929865e-08 -4.900177665155305e-07 4.124659278608803e-07 -4.286211708849172e-07\n",
      "-9.604280417210738e-08 -9.175669978762141e-07 4.851074021974506e-07 6.217250905344229e-07 -4.2859255076001634e-07 -1.7421478512910843e-07 -4.620150921239133e-08 -5.868043226443275e-07 4.957863843821275e-07 -5.133247519287603e-07\n",
      "-1.101537552950032e-07 -1.1020190457751833e-06 5.810931876630603e-07 7.442162638464505e-07 -5.164581600131874e-07 -2.073045725054283e-07 -5.8814797092774896e-08 -7.024138978929828e-07 5.961345234382271e-07 -6.145138356187041e-07\n",
      "-1.2484664107808297e-07 -1.3237699507326284e-06 6.958177769775969e-07 8.903890744717031e-07 -6.22842123961992e-07 -2.4624105608462037e-07 -7.542621617112152e-08 -8.403768525345989e-07 7.170755763211084e-07 -7.352811939321902e-07\n",
      "-1.392541337666753e-07 -1.590456015225169e-06 8.328270848761737e-07 1.064619890495414e-06 -7.518644062382767e-07 -2.918543239543206e-07 -9.747586532379428e-08 -1.0048271563559475e-06 8.629578558447632e-07 -8.7924963397497e-07\n",
      "-1.5189593982347774e-07 -1.91131637101534e-06 9.962852918227271e-07 1.2720014980845595e-06 -9.086524284747271e-07 -3.449912697852228e-07 -1.2696400245480932e-07 -1.2005784357235948e-06 1.039099786499349e-06 -1.0506272078900102e-06\n",
      "-1.603773240331459e-07 -2.2975453668048516e-06 1.1910587442002684e-06 1.518416144871616e-06 -1.0996235354355977e-06 -4.064533614835916e-07 -1.6668558638345348e-07 -1.4331958780076326e-06 1.252026751719808e-06 -1.2542680705898623e-06\n"
     ]
    }
   ],
   "source": [
    "grid_size=5.120e+07 \n",
    "\n",
    "# error_y1=[]\n",
    "# error_y2=[]\n",
    "# error_y3=[]\n",
    "# error_y4=[]\n",
    "# error_y5=[]\n",
    "# error_y6=[]\n",
    "# error_y7=[]\n",
    "# error_y8=[]\n",
    "# error_y9=[]\n",
    "# error_y10=[]\n",
    "# dt=[]\n",
    "\n",
    "for i in range(0,10):\n",
    "    f=h5py.File('relax_hdf5_part_%04d'%i,'r')\n",
    "    dt.append(f['real scalars'][1][1])\n",
    "    error_y1=(y1[i+1]-y1[i]-vy1[i]*dt[i])/grid_size\n",
    "    error_y2=(y2[i+1]-y2[i]-vy2[i]*dt[i])/grid_size\n",
    "    error_y3=(y3[i+1]-y3[i]-vy3[i]*dt[i])/grid_size\n",
    "    error_y4=(y4[i+1]-y4[i]-vy4[i]*dt[i])/grid_size\n",
    "    error_y5=(y5[i+1]-y5[i]-vy5[i]*dt[i])/grid_size\n",
    "    error_y6=(y6[i+1]-y6[i]-vy6[i]*dt[i])/grid_size\n",
    "    error_y7=(y7[i+1]-y7[i]-vy7[i]*dt[i])/grid_size\n",
    "    error_y8=(y8[i+1]-y8[i]-vy8[i]*dt[i])/grid_size\n",
    "    error_y9=(y9[i+1]-y9[i]-vy9[i]*dt[i])/grid_size\n",
    "    error_y10=(y10[i+1]-y10[i]-vy10[i]*dt[i])/grid_size\n",
    "    print(error_y1,error_y2,error_y3,error_y4,error_y5,error_y6,error_y7,error_y8,error_y9,error_y10)\n",
    "   "
   ]
  },
  {
   "cell_type": "code",
   "execution_count": null,
   "metadata": {},
   "outputs": [],
   "source": []
  },
  {
   "cell_type": "code",
   "execution_count": null,
   "metadata": {},
   "outputs": [],
   "source": []
  }
 ],
 "metadata": {
  "kernelspec": {
   "display_name": "Python 3",
   "language": "python",
   "name": "python3"
  },
  "language_info": {
   "codemirror_mode": {
    "name": "ipython",
    "version": 3
   },
   "file_extension": ".py",
   "mimetype": "text/x-python",
   "name": "python",
   "nbconvert_exporter": "python",
   "pygments_lexer": "ipython3",
   "version": "3.6.9"
  }
 },
 "nbformat": 4,
 "nbformat_minor": 2
}
